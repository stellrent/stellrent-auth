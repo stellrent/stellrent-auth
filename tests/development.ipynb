{
 "cells": [
  {
   "cell_type": "code",
   "execution_count": 1,
   "metadata": {},
   "outputs": [
    {
     "name": "stdout",
     "output_type": "stream",
     "text": [
      "[{'user1': 'pass1'},{'user2':'pass2'}]\n"
     ]
    }
   ],
   "source": [
    "from decouple import config\n",
    "import os\n",
    "os.environ['STLRNT_AUTH_BASIC_KEYS'] = \"[{'user1': 'pass1'},{'user2':'pass2'}]\"\n",
    "print(os.environ['STLRNT_AUTH_BASIC_KEYS'])"
   ]
  },
  {
   "cell_type": "markdown",
   "metadata": {},
   "source": [
    "os.environ['STLRNT_AUTH_BASIC_KEYS'] = [{'user1': 'pass1'},{'user2':'pass2'}]\n",
    "print(os.environ['STLRNT_AUTH_BASIC_KEYS'])"
   ]
  },
  {
   "cell_type": "code",
   "execution_count": 2,
   "metadata": {},
   "outputs": [
    {
     "data": {
      "text/plain": [
       "[{'user1': 'pass1'}, {'user2': 'pass2'}]"
      ]
     },
     "execution_count": 2,
     "metadata": {},
     "output_type": "execute_result"
    }
   ],
   "source": [
    "myconfig = config('STLRNT_AUTH_BASIC_KEYS', cast=str)\n",
    "myconfig_parsed = eval(myconfig)\n",
    "myconfig_parsed"
   ]
  }
 ],
 "metadata": {
  "kernelspec": {
   "display_name": ".venv",
   "language": "python",
   "name": "python3"
  },
  "language_info": {
   "codemirror_mode": {
    "name": "ipython",
    "version": 3
   },
   "file_extension": ".py",
   "mimetype": "text/x-python",
   "name": "python",
   "nbconvert_exporter": "python",
   "pygments_lexer": "ipython3",
   "version": "3.11.9"
  }
 },
 "nbformat": 4,
 "nbformat_minor": 2
}
